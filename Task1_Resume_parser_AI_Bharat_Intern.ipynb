{
 "cells": [
  {
   "cell_type": "markdown",
   "id": "1e1c259f",
   "metadata": {},
   "source": [
    "# Bharath Intern\n",
    "\n",
    "**Name:Mekkanti Bhavani**\n",
    "<br>\n",
    "**Task1-Resume Parser**\n",
    "<br>\n",
    "Create an AI to find the correct canditdate for the job by using NLTK and some\n",
    "words."
   ]
  },
  {
   "cell_type": "markdown",
   "id": "f514ae2b",
   "metadata": {},
   "source": [
    "# Step 1: Install NLTK\n"
   ]
  },
  {
   "cell_type": "code",
   "execution_count": 1,
   "id": "933d8d32",
   "metadata": {},
   "outputs": [
    {
     "name": "stdout",
     "output_type": "stream",
     "text": [
      "Requirement already satisfied: nltk in c:\\users\\mekka\\anaconda3\\lib\\site-packages (3.7)\n",
      "Requirement already satisfied: tqdm in c:\\users\\mekka\\anaconda3\\lib\\site-packages (from nltk) (4.64.0)\n",
      "Requirement already satisfied: click in c:\\users\\mekka\\anaconda3\\lib\\site-packages (from nltk) (8.0.4)\n",
      "Requirement already satisfied: joblib in c:\\users\\mekka\\anaconda3\\lib\\site-packages (from nltk) (1.1.0)\n",
      "Requirement already satisfied: regex>=2021.8.3 in c:\\users\\mekka\\anaconda3\\lib\\site-packages (from nltk) (2022.3.15)\n",
      "Requirement already satisfied: colorama in c:\\users\\mekka\\anaconda3\\lib\\site-packages (from click->nltk) (0.4.4)\n"
     ]
    }
   ],
   "source": [
    "!pip install nltk"
   ]
  },
  {
   "cell_type": "markdown",
   "id": "93101d1d",
   "metadata": {},
   "source": [
    "# Step 2: Import Libraries and Download NLTK Resources\n",
    "\n",
    "\n"
   ]
  },
  {
   "cell_type": "markdown",
   "id": "442ff1d2",
   "metadata": {},
   "source": [
    "import the required libraries and download the necessary NLTK resources:"
   ]
  },
  {
   "cell_type": "code",
   "execution_count": 2,
   "id": "98400eb2",
   "metadata": {},
   "outputs": [
    {
     "name": "stderr",
     "output_type": "stream",
     "text": [
      "[nltk_data] Downloading package punkt to\n",
      "[nltk_data]     C:\\Users\\mekka\\AppData\\Roaming\\nltk_data...\n",
      "[nltk_data]   Package punkt is already up-to-date!\n",
      "[nltk_data] Downloading package stopwords to\n",
      "[nltk_data]     C:\\Users\\mekka\\AppData\\Roaming\\nltk_data...\n",
      "[nltk_data]   Package stopwords is already up-to-date!\n"
     ]
    },
    {
     "data": {
      "text/plain": [
       "True"
      ]
     },
     "execution_count": 2,
     "metadata": {},
     "output_type": "execute_result"
    }
   ],
   "source": [
    "import nltk\n",
    "from nltk.tokenize import word_tokenize\n",
    "from nltk.corpus import stopwords\n",
    "\n",
    "# Download required NLTK resources\n",
    "nltk.download('punkt')\n",
    "nltk.download('stopwords')"
   ]
  },
  {
   "cell_type": "markdown",
   "id": "d6d41dae",
   "metadata": {},
   "source": [
    "# Step 3: Define Job Description Keywords\n",
    "<br>\n",
    "\n",
    "\n"
   ]
  },
  {
   "cell_type": "code",
   "execution_count": 3,
   "id": "9b9e7b41",
   "metadata": {},
   "outputs": [],
   "source": [
    "# Sample job description keywords\n",
    "job_keywords = [\"python\", \"machine learning\", \"data analysis\", \"communication\", \"teamwork\"]"
   ]
  },
  {
   "cell_type": "markdown",
   "id": "2f0fd1b8",
   "metadata": {},
   "source": [
    "# Step 4: Define Sample Resumes"
   ]
  },
  {
   "cell_type": "code",
   "execution_count": 4,
   "id": "68f6407e",
   "metadata": {},
   "outputs": [],
   "source": [
    "# Sample resumes\n",
    "resumes = [\n",
    "    \"I have experience in Python programming and data analysis.\",\n",
    "    \"My expertise lies in machine learning and teamwork.\",\n",
    "    \"I am a skilled communicator with a background in data analysis.\",\n",
    "    \"I have experience in Java development and project management.\"\n",
    "]"
   ]
  },
  {
   "cell_type": "markdown",
   "id": "c3752ff8",
   "metadata": {},
   "source": [
    "# **Step 5: Preprocess Text and Find Matching Keywords**"
   ]
  },
  {
   "cell_type": "code",
   "execution_count": 5,
   "id": "146a02d4",
   "metadata": {},
   "outputs": [],
   "source": [
    "def preprocess_text(text):\n",
    "    # Tokenize the text and convert to lowercase\n",
    "    tokens = word_tokenize(text.lower())\n",
    "    \n",
    "    # Remove stopwords\n",
    "    stop_words = set(stopwords.words('english'))\n",
    "    tokens = [token for token in tokens if token not in stop_words]\n",
    "    \n",
    "    return tokens\n",
    "\n",
    "def find_candidate(resume_text):\n",
    "    # Preprocess the resume text\n",
    "    resume_tokens = preprocess_text(resume_text)\n",
    "    \n",
    "    # Find the matching keywords\n",
    "    matching_keywords = [keyword for keyword in job_keywords if keyword in resume_tokens]\n",
    "    \n",
    "    return matching_keywords"
   ]
  },
  {
   "cell_type": "markdown",
   "id": "cd8b3ec1",
   "metadata": {},
   "source": [
    "# **Step 6: Finding Candidates for Each Resume**"
   ]
  },
  {
   "cell_type": "code",
   "execution_count": 6,
   "id": "42b7e6a9",
   "metadata": {},
   "outputs": [
    {
     "name": "stdout",
     "output_type": "stream",
     "text": [
      "Resume 1 - Matching Keywords: ['python']\n",
      "Resume 2 - Matching Keywords: ['teamwork']\n",
      "Resume 3 - Matching Keywords: []\n",
      "Resume 4 - Matching Keywords: []\n"
     ]
    }
   ],
   "source": [
    "# Finding candidates for each resume\n",
    "for idx, resume in enumerate(resumes):\n",
    "    matching_keywords = find_candidate(resume)\n",
    "    print(f\"Resume {idx+1} - Matching Keywords:\", matching_keywords)"
   ]
  }
 ],
 "metadata": {
  "kernelspec": {
   "display_name": "Python 3 (ipykernel)",
   "language": "python",
   "name": "python3"
  },
  "language_info": {
   "codemirror_mode": {
    "name": "ipython",
    "version": 3
   },
   "file_extension": ".py",
   "mimetype": "text/x-python",
   "name": "python",
   "nbconvert_exporter": "python",
   "pygments_lexer": "ipython3",
   "version": "3.9.12"
  }
 },
 "nbformat": 4,
 "nbformat_minor": 5
}
